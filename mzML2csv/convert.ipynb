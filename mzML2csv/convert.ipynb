{
 "cells": [
  {
   "cell_type": "code",
   "execution_count": 1,
   "metadata": {},
   "outputs": [],
   "source": [
    "import numpy as np\n",
    "from pyteomics.mzml import read, iterfind\n",
    "# import matplotlib.pyplot as plt\n"
   ]
  },
  {
   "cell_type": "code",
   "execution_count": 2,
   "metadata": {},
   "outputs": [],
   "source": [
    "def save_mat2csv(fname, matrix, times=None, wls=None, unit=''):\n",
    "    delimiter = ','\n",
    "    times = np.arange(0, matrix.shape[0]) if times is None else times\n",
    "    wls = np.arange(0, matrix.shape[1]) if wls is None else wls\n",
    "\n",
    "    mat = np.hstack((times[:, None], matrix))\n",
    "    buffer = f'unit: {unit} - Elution Time | m/z->'\n",
    "    buffer += delimiter + delimiter.join(f\"{num}\" for num in wls) + '\\n'\n",
    "    buffer += '\\n'.join(delimiter.join(f\"{num}\" for num in row) for row in mat)\n",
    "\n",
    "    with open(fname, 'w', encoding='utf8') as f:\n",
    "        f.write(buffer)"
   ]
  },
  {
   "cell_type": "code",
   "execution_count": 45,
   "metadata": {},
   "outputs": [],
   "source": [
    "files = [\n",
    "    '2Z_high_conc..mzML',\n",
    "    '2ZRB_MeOH_545_irr.mzML',\n",
    "    'MeO-PDPs.mzML'\n",
    "]\n"
   ]
  },
  {
   "cell_type": "code",
   "execution_count": 51,
   "metadata": {},
   "outputs": [],
   "source": [
    "def parse_mzml_file(filepath, mz_resolution=1):\n",
    "\n",
    "    mzml_file = read(filepath)\n",
    "    spectrumList_dict = iterfind(filepath, 'indexedmzML/mzML/run/spectrumList', read_schema=True, recursive=False).__next__()\n",
    "    n_spectra = int(spectrumList_dict['count'])  # number of all spectra\n",
    "\n",
    "    mzmin, mzmax = None, None\n",
    "    mz_array = None\n",
    "    mat = None\n",
    "    times = None\n",
    "\n",
    "    for i, sp in enumerate(mzml_file):\n",
    "\n",
    "        if mat is None:\n",
    "            mzmin = float(sp['scanList']['scan'][0]['scanWindowList']['scanWindow'][0]['scan window lower limit'])\n",
    "            mzmax = float(sp['scanList']['scan'][0]['scanWindowList']['scanWindow'][0]['scan window upper limit'])\n",
    "\n",
    "            mzmax = mzmax + mz_resolution - (mzmax - mzmin) % mz_resolution  # recalculate the maximum m/z value\n",
    "\n",
    "            mz_array = np.linspace(mzmin, mzmax, int((mzmax - mzmin) / mz_resolution) + 1) # make sure to have evenly spaced integerers\n",
    "            mat = np.zeros((n_spectra, mz_array.shape[0]))\n",
    "            times = np.zeros(n_spectra)\n",
    "\n",
    "        indexes = (sp['m/z array'] * mz_array.shape[0] / mzmax).astype(int)\n",
    "\n",
    "        # find duplicated and integrate (just sum) them \n",
    "        indexes, indices, counts = np.unique(indexes, return_index=True, return_counts=True)\n",
    "        intensities = sp['intensity array']\n",
    "        integrated_intensities = intensities[indices]\n",
    "\n",
    "        for j in range(indexes.shape[0]):\n",
    "            if counts[j] < 2:\n",
    "                continue\n",
    "\n",
    "            idx = indices[j]\n",
    "            integrated_intensities[j] = intensities[idx:idx + counts[j]].sum()\n",
    "\n",
    "        try:\n",
    "            times[i] = float(sp['scanList']['scan'][0]['scan start time'])\n",
    "        except KeyError:\n",
    "            pass\n",
    "        mat[i, indexes] = integrated_intensities\n",
    "\n",
    "    save_mat2csv(f'{filepath}.csv', mat, times, mz_array)\n"
   ]
  },
  {
   "cell_type": "code",
   "execution_count": 52,
   "metadata": {},
   "outputs": [],
   "source": [
    "for file in files:\n",
    "    parse_mzml_file(file, 2)"
   ]
  },
  {
   "cell_type": "code",
   "execution_count": 12,
   "metadata": {},
   "outputs": [
    {
     "data": {
      "text/plain": [
       "(array([1, 2, 3, 4, 6, 7]),\n",
       " array([0, 1, 3, 4, 6, 7], dtype=int64),\n",
       " array([1, 2, 1, 2, 1, 1], dtype=int64))"
      ]
     },
     "execution_count": 12,
     "metadata": {},
     "output_type": "execute_result"
    }
   ],
   "source": [
    "# spectrum = obj_file.__next__()\n",
    "# plt.plot(spectrum['m/z array'], spectrum['intensity array'])\n",
    "# spectrum['intensity array'].shape\n",
    "\n",
    "array = np.asarray([1, 2, 2, 3, 4, 4, 6, 7])\n",
    "vals, indices, counts = np.unique(array, return_index=True, return_counts=True)\n",
    "vals, indices, counts\n"
   ]
  },
  {
   "cell_type": "code",
   "execution_count": null,
   "metadata": {},
   "outputs": [],
   "source": []
  }
 ],
 "metadata": {
  "kernelspec": {
   "display_name": "Python 3 (ipykernel)",
   "language": "python",
   "name": "python3"
  },
  "language_info": {
   "codemirror_mode": {
    "name": "ipython",
    "version": 3
   },
   "file_extension": ".py",
   "mimetype": "text/x-python",
   "name": "python",
   "nbconvert_exporter": "python",
   "pygments_lexer": "ipython3",
   "version": "3.9.7"
  }
 },
 "nbformat": 4,
 "nbformat_minor": 4
}
